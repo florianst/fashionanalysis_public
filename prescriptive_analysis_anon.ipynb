{
 "cells": [
  {
   "cell_type": "markdown",
   "metadata": {},
   "source": [
    "# Analysis on Sales of All Spring Summer Collections"
   ]
  },
  {
   "cell_type": "markdown",
   "metadata": {},
   "source": [
    "collaboration between florianst and hj1901 for Oxford Strategy Group Digital, 2020\n",
    "\n",
    "All data in this file has been anonymised."
   ]
  },
  {
   "cell_type": "code",
   "execution_count": 1,
   "metadata": {},
   "outputs": [
    {
     "name": "stderr",
     "output_type": "stream",
     "text": [
      "C:\\Users\\Florian\\Anaconda3\\lib\\site-packages\\statsmodels\\tools\\_testing.py:19: FutureWarning: pandas.util.testing is deprecated. Use the functions in the public API at pandas.testing instead.\n",
      "  import pandas.util.testing as tm\n"
     ]
    }
   ],
   "source": [
    "import pandas as pd\n",
    "import numpy as np\n",
    "import matplotlib.pyplot as plt\n",
    "import seaborn as sns\n",
    "import warnings\n",
    "import datetime as dt\n",
    "import math\n",
    "import os\n",
    "import copy\n",
    "from sklearn.preprocessing import MinMaxScaler\n",
    "from sklearn.metrics import mean_squared_error\n",
    "from sklearn.preprocessing import LabelEncoder,OneHotEncoder\n",
    "from random import seed\n",
    "from random import randint\n",
    "from xgboost import XGBRegressor\n",
    "from xgboost import plot_importance\n",
    "\n",
    "pd.set_option('display.max_rows', 100)\n",
    "pd.set_option('display.max_columns', 50)\n",
    "seed(1)\n",
    "warnings.filterwarnings('ignore')"
   ]
  },
  {
   "cell_type": "markdown",
   "metadata": {},
   "source": [
    "# Creating the file for season sales with shop and product information"
   ]
  },
  {
   "cell_type": "code",
   "execution_count": null,
   "metadata": {
    "scrolled": true
   },
   "outputs": [],
   "source": [
    "# select related features\n",
    "col = [...\n",
    "       ]\n",
    "dfs = pd.DataFrame(columns=col)\n",
    "dic = {...\n",
    "      }\n",
    "\n",
    "dtype_dic = {'price': 'float', 'category': 'int16', 'city': 'int16', 'collection': 'int16',\n",
    "             'franchising': 'int16', 'gender': 'int16', 'item': 'int16', 'outlet': 'int16',\n",
    "             'period': 'int16', 'rotation': 'int16', 'seasonality': 'int16', 'store': 'int16',\n",
    "             'store type': 'int16', 'volume': 'int16', 'zip': 'int16', 'income':'float'}\n",
    "\n",
    "dfs.rename(columns=dic,inplace=True)\n",
    "dfs = dfs.astype(dtype_dic)\n",
    "product = pd.read_csv('data/20200120_barcode.csv')\n",
    "store = pd.read_csv('data/20200120_filiali.csv')\n",
    "product.rename(columns=dic,inplace=True)\n",
    "store.rename(columns=dic,inplace=True)\n",
    "\n",
    "# begin with spring summer season \n",
    "chunksize = 5000000\n",
    "\n",
    "for df in pd.read_csv('sales_17.csv', chunksize=chunksize):\n",
    "\n",
    "    df = df[df['Stagione'].astype('str')=='PE'][col]\n",
    "    df = df.rename(columns=dic)\n",
    "    df['gender'] = df['gender'].fillna(' ')\n",
    "    product['gender'] = product['gender'].fillna(' ')\n",
    "    for co in ['item', 'category', 'gender', 'collection']:\n",
    "        le = LabelEncoder()\n",
    "        le = le.fit(product[co].unique())\n",
    "        df[co] = le.transform(df[co])\n",
    "        prediction_test = pd.DataFrame(data=17, columns=['item'])\n",
    "        print(le.inverse_transform(prediction_test))\n",
    "        exit()\n",
    "        \n",
    "    # encoding features which could be ordinal\n",
    "    period_map = {'M1':1, 'M2':2, ' ':8, 'M3':3, 'M0':0, 'M4':4, 'M5':5, 'M6':6, 'M7':7}\n",
    "    seasonality_map = {'NC':0, 'LE':1, 'MP':2, 'PE':3}\n",
    "    df['period'] = df['period'].map(period_map)\n",
    "    df['seasonality'] = df['seasonality'].map(seasonality_map)\n",
    "    le = LabelEncoder()\n",
    "    le = le.fit(df['rotation'].unique())\n",
    "    df['rotation'] = le.transform(df['rotation'])\n",
    "    \n",
    "    df['zip'] = df['zip'].astype('str')\n",
    "    df['zip'] = df['zip'].apply(lambda x: '{0:0>5}'.format(x) if x!=' ' else x)\n",
    "    df['outlet'] = df['outlet'].fillna(' ')\n",
    "    store['outlet'] = store['outlet'].fillna(' ')\n",
    "    for co in ['franchising','store type','outlet','zip','city', 'store']:\n",
    "        le = LabelEncoder()\n",
    "        le = le.fit(store[co].unique())\n",
    "        df[co] = le.transform(df[co])\n",
    "    \n",
    "    # convert to save memory\n",
    "    for co in ['category', 'city', 'collection', 'franchising', 'gender', 'item', 'outlet', 'period', 'rotation', 'seasonality', 'store', 'store type', 'volume', 'zip']:\n",
    "        df[co] = df[co].astype('int16')\n",
    "    df['income'] = df['income'].astype('float')\n",
    "    df['price'] = df['price'].astype('float')\n",
    "    \n",
    "    dfs = dfs.append(df)\n",
    "       \n",
    "    print('-', end=' ')\n",
    "\n",
    "dfs.to_csv('sales_17_encoded.csv', sep=',', header=True, index=False)\n",
    "del dfs"
   ]
  },
  {
   "cell_type": "markdown",
   "metadata": {},
   "source": [
    "# Creating files with encoded features from both product and store"
   ]
  },
  {
   "cell_type": "markdown",
   "metadata": {},
   "source": [
    "2017"
   ]
  },
  {
   "cell_type": "code",
   "execution_count": null,
   "metadata": {},
   "outputs": [],
   "source": [
    "df = pd.read_csv('sales_17_encoded.csv')"
   ]
  },
  {
   "cell_type": "markdown",
   "metadata": {},
   "source": [
    "Anomalies x 2,  income < -1000 with volume = -1 (adjustment in the balance sheet?)"
   ]
  },
  {
   "cell_type": "code",
   "execution_count": 5,
   "metadata": {},
   "outputs": [],
   "source": [
    "#convert to datetime\n",
    "def to_datetime(d):\n",
    "    dates = {date:pd.to_datetime(str(date), format='%Y%m%d') for date in d.unique()}\n",
    "    return d.map(dates)\n",
    "df['date'] = to_datetime(df['date'])\n",
    "df = df.sort_values(by = 'date')\n",
    "df = df.set_index('date')\n",
    "df = df['2017-01-30':'2017-09-03']\n",
    "df = df.reset_index()\n",
    "df['week'] = df['date'].apply(lambda x:x.week)\n",
    "df['week'] = df['week'].apply(lambda x:x-4)\n",
    "store = df[['store','franchising','store type','outlet','zip','city']].drop_duplicates()\n",
    "df = df[df.volume>0].groupby(['store','week','item','category','gender','period','rotation','seasonality','collection']).agg({'volume':'sum','income':'sum','price':'mean'})\n",
    "df = df.reset_index()\n",
    "df = pd.merge(df, store, on=['store'], how='left')\n",
    "df['year'] = 1\n",
    "for co in ['year','week', 'category', 'city', 'collection', 'franchising', 'gender', 'item', 'outlet', 'period', 'rotation', 'seasonality', 'store', 'store type', 'zip']:\n",
    "        df[co] = df[co].astype('int16')"
   ]
  },
  {
   "cell_type": "code",
   "execution_count": null,
   "metadata": {},
   "outputs": [],
   "source": [
    "df.to_csv('sales_17_grouped.csv', sep=',', header=True, index=False)"
   ]
  },
  {
   "cell_type": "markdown",
   "metadata": {},
   "source": [
    "2018"
   ]
  },
  {
   "cell_type": "code",
   "execution_count": null,
   "metadata": {
    "scrolled": true
   },
   "outputs": [],
   "source": [
    "df = pd.read_csv('sales_1819_encoded.csv')"
   ]
  },
  {
   "cell_type": "code",
   "execution_count": 4,
   "metadata": {},
   "outputs": [],
   "source": [
    "#convert to datetime\n",
    "def to_datetime(d):\n",
    "    dates = {date:pd.to_datetime(str(date), format='%Y%m%d') for date in d.unique()}\n",
    "    return d.map(dates)\n",
    "df['date'] = to_datetime(df['date'])\n",
    "df = df.sort_values(by = 'date')\n",
    "for co in ['category', 'city', 'collection', 'franchising', 'gender', 'item', 'outlet', 'period', 'rotation', 'seasonality', 'store', 'store type', 'zip']:\n",
    "        df[co] = df[co].astype('int16')\n",
    "df = df.set_index('date')\n",
    "df = df['2018-01-29':'2018-09-02']\n",
    "df = df.reset_index()\n",
    "df['week'] = df['date'].apply(lambda x:x.week)\n",
    "df['week'] = df['week'].apply(lambda x:x-4)\n",
    "store = df[['store','franchising','store type','outlet','zip','city']].drop_duplicates()\n",
    "df = df[df.volume>0].groupby(['store','week','item','category','gender','period','rotation','seasonality','collection']).agg({'volume':'sum','income':'sum','price':'mean'})\n",
    "df = df.reset_index()\n",
    "df = pd.merge(df, store, on=['store'], how='left')\n",
    "df['year'] = 2\n",
    "for co in ['year','week', 'category', 'city', 'collection', 'franchising', 'gender', 'item', 'outlet', 'period', 'rotation', 'seasonality', 'store', 'store type', 'zip']:\n",
    "        df[co] = df[co].astype('int16')"
   ]
  },
  {
   "cell_type": "code",
   "execution_count": null,
   "metadata": {
    "scrolled": true
   },
   "outputs": [],
   "source": [
    "df.to_csv('sales_18_grouped.csv', sep=',', header=True, index=False)"
   ]
  },
  {
   "cell_type": "markdown",
   "metadata": {},
   "source": [
    "-----------------------------------"
   ]
  },
  {
   "cell_type": "markdown",
   "metadata": {},
   "source": [
    "# Feature Engineering"
   ]
  },
  {
   "cell_type": "code",
   "execution_count": 2,
   "metadata": {},
   "outputs": [],
   "source": [
    "df17 = pd.read_csv('sales_17_grouped.csv')\n",
    "df18 = pd.read_csv('sales_18_grouped.csv')\n",
    "del df17['collection']\n",
    "del df18['collection']"
   ]
  },
  {
   "cell_type": "code",
   "execution_count": 3,
   "metadata": {},
   "outputs": [
    {
     "name": "stdout",
     "output_type": "stream",
     "text": [
      "10   12\n"
     ]
    }
   ],
   "source": [
    "print(str(pd.to_datetime('2017/04/03').week-4),' ',\n",
    "str(pd.to_datetime('2017/04/23').week-4))\n",
    "df17['best_price_promo'] = df17['week'].apply(lambda x: 1 if (x>=10)&(x<=12) else 0)\n",
    "df18['best_price_promo'] = 0"
   ]
  },
  {
   "cell_type": "code",
   "execution_count": 4,
   "metadata": {},
   "outputs": [
    {
     "name": "stdout",
     "output_type": "stream",
     "text": [
      "13   17\n",
      "11   16\n"
     ]
    }
   ],
   "source": [
    "print(str(pd.to_datetime('2017/04/24').week-4),' ',\n",
    "str(pd.to_datetime('2017/05/28').week-4))\n",
    "df17['10gg_promo'] = df17['week'].apply(lambda x: 1 if (x>=13)&(x<=17) else 0)\n",
    "print(str(pd.to_datetime('2018/04/09').week-4),' ',\n",
    "str(pd.to_datetime('2018/05/20').week-4))\n",
    "df18['10gg_promo'] = df18['week'].apply(lambda x: 1 if (x>=11)&(x<=16) else 0)"
   ]
  },
  {
   "cell_type": "code",
   "execution_count": 5,
   "metadata": {},
   "outputs": [
    {
     "name": "stdout",
     "output_type": "stream",
     "text": [
      "16   20\n"
     ]
    }
   ],
   "source": [
    "print(str(pd.to_datetime('2017/05/15').week-4),' ',\n",
    "str(pd.to_datetime('2017/06/18').week-4))\n",
    "df17['Primavera_promo'] = df17['week'].apply(lambda x: 1 if (x>=16)&(x<=20) else 0)\n",
    "df18['Primavera_promo'] = 0"
   ]
  },
  {
   "cell_type": "code",
   "execution_count": 6,
   "metadata": {},
   "outputs": [
    {
     "name": "stdout",
     "output_type": "stream",
     "text": [
      "22   22\n"
     ]
    }
   ],
   "source": [
    "print(str(pd.to_datetime('2017/06/26').week-4),' ',\n",
    "str(pd.to_datetime('2017/06/30').week-4))\n",
    "df17['presales_promo'] = df17['week'].apply(lambda x: 1 if x==22 else 0)\n",
    "df18['presales_promo'] = 0"
   ]
  },
  {
   "cell_type": "code",
   "execution_count": 7,
   "metadata": {},
   "outputs": [
    {
     "name": "stdout",
     "output_type": "stream",
     "text": [
      "23   31\n",
      "23   31\n"
     ]
    }
   ],
   "source": [
    "print(str(pd.to_datetime('2017/07/03').week-4),' ',\n",
    "str(pd.to_datetime('2017/09/03').week-4))\n",
    "df17['eos'] = df17['week'].apply(lambda x: 1 if (x>=23)&(x<=31) else 0)\n",
    "print(str(pd.to_datetime('2018/07/02').week-4),' ',\n",
    "str(pd.to_datetime('2018/09/02').week-4))\n",
    "df18['eos'] = df18['week'].apply(lambda x: 1 if (x>=23)&(x<=31) else 0)"
   ]
  },
  {
   "cell_type": "code",
   "execution_count": 8,
   "metadata": {},
   "outputs": [
    {
     "name": "stdout",
     "output_type": "stream",
     "text": [
      "5   9\n"
     ]
    }
   ],
   "source": [
    "print(str(pd.to_datetime('2018/02/26').week-4),' ',\n",
    "str(pd.to_datetime('2018/04/01').week-4))\n",
    "df18['Fidelity_promo'] = df18['week'].apply(lambda x: 1 if (x>=5)&(x<=9) else 0)\n",
    "df17['Fidelity_promo'] = 0"
   ]
  },
  {
   "cell_type": "code",
   "execution_count": 9,
   "metadata": {},
   "outputs": [
    {
     "name": "stdout",
     "output_type": "stream",
     "text": [
      "8   10\n"
     ]
    }
   ],
   "source": [
    "print(str(pd.to_datetime('2018/03/19').week-4),' ',\n",
    "str(pd.to_datetime('2018/04/08').week-4))\n",
    "df18['3x2_promo'] = df18['week'].apply(lambda x: 1 if (x>=8)&(x<=10) else 0)\n",
    "df17['3x2_promo'] = 0"
   ]
  },
  {
   "cell_type": "code",
   "execution_count": 10,
   "metadata": {},
   "outputs": [
    {
     "name": "stdout",
     "output_type": "stream",
     "text": [
      "18   22\n"
     ]
    }
   ],
   "source": [
    "print(str(pd.to_datetime('2018/05/28').week-4),' ',\n",
    "str(pd.to_datetime('2018/07/01').week-4))\n",
    "df18['vecanze_promo'] = df18['week'].apply(lambda x: 1 if (x>=18)&(x<=22) else 0)\n",
    "df17['vecanze_promo'] = 0 "
   ]
  },
  {
   "cell_type": "code",
   "execution_count": 11,
   "metadata": {},
   "outputs": [],
   "source": [
    "df17['discount'] = df17['income']/(df17['volume']*df17['price'])\n",
    "df18['discount'] = df18['income']/(df18['volume']*df18['price'])\n",
    "df17 = df17[df17['discount']<2]\n",
    "df18 = df18[df18['discount']<3]"
   ]
  },
  {
   "cell_type": "code",
   "execution_count": 12,
   "metadata": {},
   "outputs": [],
   "source": [
    "df17 = df17[(df17['outlet']==0)&(df17['store type']==0)]\n",
    "df18 = df18[(df18['outlet']==0)&(df18['store type']==0)]\n",
    "del df17['outlet'],df17['store type'],df18['outlet'],df18['store type']"
   ]
  },
  {
   "cell_type": "code",
   "execution_count": 13,
   "metadata": {},
   "outputs": [],
   "source": [
    "for co in ['city','item', 'store', 'volume', 'zip']:\n",
    "        df17[co] = df17[co].astype('int16')\n",
    "        df18[co] = df18[co].astype('int16')\n",
    "for co in ['week','category', 'period', 'rotation', 'seasonality', 'gender', 'franchising', 'year', '10gg_promo', 'best_price_promo', 'Primavera_promo', 'Primavera_promo', 'presales_promo', 'eos', 'Fidelity_promo', '3x2_promo', 'vecanze_promo']:\n",
    "        df17[co] = df17[co].astype('int8')\n",
    "        df18[co] = df18[co].astype('int8')"
   ]
  },
  {
   "cell_type": "code",
   "execution_count": 33,
   "metadata": {},
   "outputs": [],
   "source": [
    "def lag_feature(df, lags, col):\n",
    "    tmp = df[['store','week','item','category','gender','period','rotation','seasonality',col]]\n",
    "    for i in lags:\n",
    "        shifted = tmp.copy()\n",
    "        shifted.columns = ['store','week','item','category','gender','period','rotation', 'seasonality', col+'_lag_'+str(i)]\n",
    "        shifted['week'] += i\n",
    "        df = pd.merge(df, shifted, how='left')\n",
    "    return df"
   ]
  },
  {
   "cell_type": "code",
   "execution_count": 16,
   "metadata": {},
   "outputs": [],
   "source": [
    "df17 = lag_feature(df17, [1,2,3], 'volume')\n",
    "df18 = lag_feature(df18, [1,2,3], 'volume')"
   ]
  },
  {
   "cell_type": "code",
   "execution_count": 17,
   "metadata": {},
   "outputs": [],
   "source": [
    "for co in ['volume_lag_1','volume_lag_2','volume_lag_3']:\n",
    "    df17[co].fillna(0,inplace=True)\n",
    "    df18[co].fillna(0,inplace=True)\n",
    "    df17[co] = df17[co].astype('int16')\n",
    "    df18[co] = df18[co].astype('int16')"
   ]
  },
  {
   "cell_type": "code",
   "execution_count": 20,
   "metadata": {},
   "outputs": [
    {
     "data": {
      "text/plain": [
       "(2412993, 27)"
      ]
     },
     "execution_count": 20,
     "metadata": {},
     "output_type": "execute_result"
    }
   ],
   "source": [
    "df18.shape"
   ]
  },
  {
   "cell_type": "code",
   "execution_count": 21,
   "metadata": {},
   "outputs": [],
   "source": [
    "df17.to_csv('sales_17_feature.csv', sep=',', header=True, index=False)\n",
    "df18.to_csv('sales_18_feature.csv', sep=',', header=True, index=False)"
   ]
  },
  {
   "cell_type": "code",
   "execution_count": 34,
   "metadata": {},
   "outputs": [],
   "source": [
    "df17 = pd.read_csv('sales_17_feature.csv')\n",
    "df18 = pd.read_csv('sales_18_feature.csv')"
   ]
  },
  {
   "cell_type": "code",
   "execution_count": 35,
   "metadata": {},
   "outputs": [],
   "source": [
    "df17['week2'] = df17['week'] \n",
    "df18['week2'] = df18['week']\n",
    "df18.week = df18.week+31"
   ]
  },
  {
   "cell_type": "code",
   "execution_count": 38,
   "metadata": {},
   "outputs": [],
   "source": [
    "df17 = df17.append(df18)\n",
    "del df18\n",
    "matrix = df17\n",
    "matrix.shape"
   ]
  },
  {
   "cell_type": "code",
   "execution_count": 41,
   "metadata": {},
   "outputs": [],
   "source": [
    "group = matrix.groupby(['item']).agg({'price': ['mean']})\n",
    "group.columns = ['item_average_price']\n",
    "group.reset_index(inplace=True)\n",
    "    \n",
    "matrix = pd.merge(matrix, group, on=['item'], how='left')\n",
    "matrix['item_average_price'] = matrix['item_average_price'].astype(np.float16)\n",
    "\n",
    "group = matrix.groupby(['week','item']).agg({'price': ['mean']})\n",
    "group.columns = ['item_week_average_price']\n",
    "group.reset_index(inplace=True)\n",
    "\n",
    "matrix = pd.merge(matrix, group, on=['week','item'], how='left')\n",
    "matrix['item_week_average_price'] = matrix['item_week_average_price'].astype(np.float16)\n",
    "\n",
    "lags = [1,2,3]\n",
    "matrix = lag_feature(matrix, lags, 'item_week_average_price')\n",
    "\n",
    "for i in lags:\n",
    "    matrix['delta_price_lag_'+str(i)] = \\\n",
    "        (matrix['item_week_average_price_lag_'+str(i)] - matrix['item_average_price']) / matrix['item_average_price']\n",
    "\n",
    "def select_trend(row):\n",
    "    for i in lags:\n",
    "        if row['delta_price_lag_'+str(i)]:\n",
    "            return row['delta_price_lag_'+str(i)]\n",
    "    return 0\n",
    "    \n",
    "matrix['delta_price_lag'] = matrix.apply(select_trend, axis=1)\n",
    "matrix['delta_price_lag'] = matrix['delta_price_lag'].astype(np.float16)\n",
    "matrix['delta_price_lag'].fillna(0, inplace=True)\n",
    "\n",
    "\n",
    "fetures_to_drop = ['item_average_price', 'item_week_average_price']\n",
    "for i in lags:\n",
    "    fetures_to_drop += ['delta_price_lag_'+str(i)]\n",
    "    fetures_to_drop += ['item_week_average_price_lag_'+str(i)]\n",
    "\n",
    "matrix.drop(fetures_to_drop, axis=1, inplace=True)"
   ]
  },
  {
   "cell_type": "code",
   "execution_count": 42,
   "metadata": {},
   "outputs": [
    {
     "data": {
      "text/plain": [
       "(3770263, 29)"
      ]
     },
     "execution_count": 42,
     "metadata": {},
     "output_type": "execute_result"
    }
   ],
   "source": [
    "matrix.shape"
   ]
  },
  {
   "cell_type": "code",
   "execution_count": 43,
   "metadata": {},
   "outputs": [],
   "source": [
    "grouper = ['week','store','category','item']\n",
    "grouper_col = 'store_category_item_average_volume'\n",
    "\n",
    "group = matrix.groupby(grouper).agg({'volume': ['mean']})\n",
    "group.columns = [grouper_col]\n",
    "group.reset_index(inplace=True)\n",
    "\n",
    "group.week = group.week+1\n",
    "\n",
    "matrix = pd.merge(matrix, group, on=grouper, how='left')\n",
    "matrix[grouper_col] = matrix[grouper_col].astype(np.float16)"
   ]
  },
  {
   "cell_type": "code",
   "execution_count": 44,
   "metadata": {},
   "outputs": [],
   "source": [
    "grouper = ['week','store','category']\n",
    "grouper_col = 'store_category_average_volume'\n",
    "\n",
    "group = matrix.groupby(grouper).agg({'volume': ['mean']})\n",
    "group.columns = [grouper_col]\n",
    "group.reset_index(inplace=True)\n",
    "\n",
    "group.week = group.week+1\n",
    "\n",
    "matrix = pd.merge(matrix, group, on=grouper, how='left')\n",
    "matrix[grouper_col] = matrix[grouper_col].astype(np.float16)"
   ]
  },
  {
   "cell_type": "code",
   "execution_count": 45,
   "metadata": {},
   "outputs": [],
   "source": [
    "grouper = ['week','store','gender']\n",
    "grouper_col = 'store_gender_average_volume'\n",
    "\n",
    "group = matrix.groupby(grouper).agg({'volume': ['mean']})\n",
    "group.columns = [grouper_col]\n",
    "group.reset_index(inplace=True)\n",
    "\n",
    "group.week = group.week+1\n",
    "\n",
    "matrix = pd.merge(matrix, group, on=grouper, how='left')\n",
    "matrix[grouper_col] = matrix[grouper_col].astype(np.float16)"
   ]
  },
  {
   "cell_type": "code",
   "execution_count": 46,
   "metadata": {},
   "outputs": [],
   "source": [
    "grouper = ['week','store']\n",
    "grouper_col = 'store_average_volume'\n",
    "\n",
    "group = matrix.groupby(grouper).agg({'volume': ['mean']})\n",
    "group.columns = [grouper_col]\n",
    "group.reset_index(inplace=True)\n",
    "\n",
    "group.week = group.week+1\n",
    "\n",
    "matrix = pd.merge(matrix, group, on=grouper, how='left')\n",
    "matrix[grouper_col] = matrix[grouper_col].astype(np.float16)"
   ]
  },
  {
   "cell_type": "code",
   "execution_count": 47,
   "metadata": {},
   "outputs": [],
   "source": [
    "grouper = ['week','category','item']\n",
    "grouper_col = 'category_item_average_volume'\n",
    "\n",
    "group = matrix.groupby(grouper).agg({'volume': ['mean']})\n",
    "group.columns = [grouper_col]\n",
    "group.reset_index(inplace=True)\n",
    "\n",
    "group.week = group.week+1\n",
    "\n",
    "matrix = pd.merge(matrix, group, on=grouper, how='left')\n",
    "matrix[grouper_col] = matrix[grouper_col].astype(np.float16)"
   ]
  },
  {
   "cell_type": "code",
   "execution_count": 48,
   "metadata": {},
   "outputs": [],
   "source": [
    "grouper = ['week','city','category','item']\n",
    "grouper_col = 'city_category_item_average_volume'\n",
    "\n",
    "group = matrix.groupby(grouper).agg({'volume': ['mean']})\n",
    "group.columns = [grouper_col]\n",
    "group.reset_index(inplace=True)\n",
    "\n",
    "group.week = group.week+1\n",
    "\n",
    "matrix = pd.merge(matrix, group, on=grouper, how='left')\n",
    "matrix[grouper_col] = matrix[grouper_col].astype(np.float16)"
   ]
  },
  {
   "cell_type": "code",
   "execution_count": 49,
   "metadata": {},
   "outputs": [],
   "source": [
    "grouper = ['week','city','category']\n",
    "grouper_col = 'city_category_average_volume'\n",
    "\n",
    "group = matrix.groupby(grouper).agg({'volume': ['mean']})\n",
    "group.columns = [grouper_col]\n",
    "group.reset_index(inplace=True)\n",
    "\n",
    "group.week = group.week+1\n",
    "\n",
    "matrix = pd.merge(matrix, group, on=grouper, how='left')\n",
    "matrix[grouper_col] = matrix[grouper_col].astype(np.float16)"
   ]
  },
  {
   "cell_type": "code",
   "execution_count": 55,
   "metadata": {},
   "outputs": [],
   "source": [
    "for co in ['city','item', 'store', 'volume', 'zip']:\n",
    "        matrix[co] = matrix[co].astype('int16')\n",
    "for co in ['week','category', 'period', 'rotation', 'seasonality', 'gender', 'franchising', 'year', '10gg_promo', 'best_price_promo', 'Primavera_promo', 'Primavera_promo', 'presales_promo', 'eos', 'Fidelity_promo', '3x2_promo', 'vecanze_promo']:\n",
    "        matrix[co] = matrix[co].astype('int8')\n",
    "for co in ['volume_lag_1','volume_lag_2','volume_lag_3','week2']:\n",
    "    matrix[co] = matrix[co].astype('int16')"
   ]
  },
  {
   "cell_type": "code",
   "execution_count": 60,
   "metadata": {},
   "outputs": [],
   "source": [
    "for co in ['store_category_item_average_volume',\n",
    "       'store_category_average_volume', 'store_gender_average_volume',\n",
    "       'store_average_volume', 'category_item_average_volume',\n",
    "       'city_category_item_average_volume', 'city_category_average_volume']:\n",
    "    matrix[co].fillna(0, inplace=True)"
   ]
  },
  {
   "cell_type": "code",
   "execution_count": 109,
   "metadata": {},
   "outputs": [],
   "source": [
    "matrix.shape\n",
    "matrix.to_csv('matrix.csv', sep=',', header=True, index=False)"
   ]
  },
  {
   "cell_type": "markdown",
   "metadata": {},
   "source": [
    "# Model Training"
   ]
  },
  {
   "cell_type": "code",
   "execution_count": 4,
   "metadata": {},
   "outputs": [
    {
     "name": "stderr",
     "output_type": "stream",
     "text": [
      "C:\\Users\\Florian\\Anaconda3\\lib\\site-packages\\dask\\dataframe\\utils.py:14: FutureWarning: pandas.util.testing is deprecated. Use the functions in the public API at pandas.testing instead.\n",
      "  import pandas.util.testing as tm\n"
     ]
    },
    {
     "data": {
      "text/plain": [
       "(3770263, 36)"
      ]
     },
     "execution_count": 4,
     "metadata": {},
     "output_type": "execute_result"
    }
   ],
   "source": [
    "import sys\n",
    "sys.path += ['C:\\\\Program Files\\\\Python37\\\\lib\\\\site-packages']\n",
    "import pandas as pd\n",
    "import numpy as np\n",
    "import matplotlib.pyplot as plt\n",
    "from xgboost import XGBRegressor\n",
    "import shap\n",
    "matrix = pd.read_csv('matrix.csv')\n",
    "matrix.shape"
   ]
  },
  {
   "cell_type": "markdown",
   "metadata": {},
   "source": [
    "# XGBoost\n",
    "Generate week-resolution heatmap of SHAP-generated price elasticity measure (inverse of how important is Incasso for our prediction)"
   ]
  },
  {
   "cell_type": "code",
   "execution_count": 5,
   "metadata": {},
   "outputs": [
    {
     "name": "stdout",
     "output_type": "stream",
     "text": [
      "[14, 25, 30, 42, 47, 57, 75, 105, 116, 123]\n",
      "[0]\tvalidation_0-rmse:25.01413\tvalidation_1-rmse:23.86623\n",
      "Multiple eval metrics have been passed: 'validation_1-rmse' will be used for early stopping.\n",
      "\n",
      "Will train until validation_1-rmse hasn't improved in 5 rounds.\n",
      "Stopping. Best iteration:\n",
      "[5]\tvalidation_0-rmse:8.38278\tvalidation_1-rmse:10.54418\n",
      "\n"
     ]
    },
    {
     "name": "stderr",
     "output_type": "stream",
     "text": [
      "Setting feature_perturbation = \"tree_path_dependent\" because no background data was given.\n"
     ]
    },
    {
     "name": "stdout",
     "output_type": "stream",
     "text": [
      "[-1.2090638916135776, -0.6072100020535646, -1.591319778692069, -1.2833248248598168, -0.31019296834486104, -0.3975628905258075, -0.38910218071605013, 2.153924606291479, 0.7478661994238425, 0.2196372467298468]\n",
      "[0]\tvalidation_0-rmse:26.46276\tvalidation_1-rmse:24.60165\n",
      "Multiple eval metrics have been passed: 'validation_1-rmse' will be used for early stopping.\n",
      "\n",
      "Will train until validation_1-rmse hasn't improved in 5 rounds.\n",
      "[20]\tvalidation_0-rmse:5.47506\tvalidation_1-rmse:5.57106\n",
      "Stopping. Best iteration:\n",
      "[28]\tvalidation_0-rmse:5.20939\tvalidation_1-rmse:5.41608\n",
      "\n",
      "[-1.4903386401627812, -0.4794906838191626, -1.2551970451439418, -1.1190027457467338, -0.19880848688603725, -0.2618146371864195, -0.2722729979680325, 1.1563554862699286, 0.5107166622932974, 0.1404024068463741]\n",
      "[0]\tvalidation_0-rmse:27.10242\tvalidation_1-rmse:22.90008\n",
      "Multiple eval metrics have been passed: 'validation_1-rmse' will be used for early stopping.\n",
      "\n",
      "Will train until validation_1-rmse hasn't improved in 5 rounds.\n",
      "[20]\tvalidation_0-rmse:5.36059\tvalidation_1-rmse:4.23272\n",
      "[40]\tvalidation_0-rmse:4.86694\tvalidation_1-rmse:3.99706\n",
      "Stopping. Best iteration:\n",
      "[51]\tvalidation_0-rmse:4.71464\tvalidation_1-rmse:3.92063\n",
      "\n",
      "[-0.7108410916704156, -0.42391958118891626, -0.8370069969032586, -0.9711686394077643, -0.17737348613356194, -0.22247727517447075, -0.23406759230322782, 0.9853764198705525, 0.4303935568371794, 0.12172414837870195]\n",
      "[0]\tvalidation_0-rmse:26.16118\tvalidation_1-rmse:25.07418\n",
      "Multiple eval metrics have been passed: 'validation_1-rmse' will be used for early stopping.\n",
      "\n",
      "Will train until validation_1-rmse hasn't improved in 5 rounds.\n",
      "[20]\tvalidation_0-rmse:5.29387\tvalidation_1-rmse:4.90293\n",
      "[40]\tvalidation_0-rmse:4.86460\tvalidation_1-rmse:4.51969\n",
      "Stopping. Best iteration:\n",
      "[48]\tvalidation_0-rmse:4.74108\tvalidation_1-rmse:4.40695\n",
      "\n",
      "[-1.1175329517104355, -0.4465819578207613, -0.9838034853063509, -1.034593150263825, -0.243783364485047, -0.2665978503371958, -0.26043135458139377, 0.8916952600392687, 0.6426813037425122, 0.1239638508124866]\n",
      "[0]\tvalidation_0-rmse:24.73041\tvalidation_1-rmse:36.83664\n",
      "Multiple eval metrics have been passed: 'validation_1-rmse' will be used for early stopping.\n",
      "\n",
      "Will train until validation_1-rmse hasn't improved in 5 rounds.\n",
      "[20]\tvalidation_0-rmse:5.08724\tvalidation_1-rmse:10.37064\n",
      "[40]\tvalidation_0-rmse:4.45498\tvalidation_1-rmse:9.50980\n",
      "Stopping. Best iteration:\n",
      "[41]\tvalidation_0-rmse:4.44664\tvalidation_1-rmse:9.48051\n",
      "\n",
      "[-1.1605742433865172, -0.37593033549574706, -1.0022927517429825, -1.8395880568774838, -0.4424541195463623, -0.2761324742026759, -0.2532125141184119, 0.7693955390583476, 6.610619823822177, 0.13472185069866557]\n",
      "[0]\tvalidation_0-rmse:27.02536\tvalidation_1-rmse:37.84294\n",
      "Multiple eval metrics have been passed: 'validation_1-rmse' will be used for early stopping.\n",
      "\n",
      "Will train until validation_1-rmse hasn't improved in 5 rounds.\n",
      "[20]\tvalidation_0-rmse:5.36719\tvalidation_1-rmse:10.92327\n",
      "[40]\tvalidation_0-rmse:4.84152\tvalidation_1-rmse:10.07649\n",
      "[60]\tvalidation_0-rmse:4.64368\tvalidation_1-rmse:9.68514\n",
      "[80]\tvalidation_0-rmse:4.52225\tvalidation_1-rmse:9.41450\n",
      "[100]\tvalidation_0-rmse:4.38539\tvalidation_1-rmse:9.22966\n",
      "[120]\tvalidation_0-rmse:4.30536\tvalidation_1-rmse:9.13351\n",
      "[140]\tvalidation_0-rmse:4.20584\tvalidation_1-rmse:9.01982\n",
      "Stopping. Best iteration:\n",
      "[149]\tvalidation_0-rmse:4.16503\tvalidation_1-rmse:8.89713\n",
      "\n",
      "[-0.42722164106816, -0.27299241130895513, -0.5548644285581806, -0.9955221365385208, -0.3195377779944782, -0.20441944844280613, -0.17574355000040223, 1.0629386260157168, -2.896486012252028, 0.14533703933247663]\n",
      "[0]\tvalidation_0-rmse:30.43241\tvalidation_1-rmse:39.28156\n",
      "Multiple eval metrics have been passed: 'validation_1-rmse' will be used for early stopping.\n",
      "\n",
      "Will train until validation_1-rmse hasn't improved in 5 rounds.\n",
      "[20]\tvalidation_0-rmse:6.08543\tvalidation_1-rmse:11.78018\n",
      "[40]\tvalidation_0-rmse:5.53111\tvalidation_1-rmse:10.99715\n",
      "[60]\tvalidation_0-rmse:5.28283\tvalidation_1-rmse:10.79295\n",
      "[80]\tvalidation_0-rmse:5.07438\tvalidation_1-rmse:10.41384\n",
      "Stopping. Best iteration:\n",
      "[80]\tvalidation_0-rmse:5.07438\tvalidation_1-rmse:10.41384\n",
      "\n",
      "[-0.2880716157043284, -0.23375341994252558, -0.4762707951680981, -0.85448549450986, -0.2768292739269353, -0.17851429330232613, -0.15536731074603058, 4.067487370331872, -4.246186023933431, 0.15204104477179112]\n",
      "[0]\tvalidation_0-rmse:34.54201\tvalidation_1-rmse:38.88837\n",
      "Multiple eval metrics have been passed: 'validation_1-rmse' will be used for early stopping.\n",
      "\n",
      "Will train until validation_1-rmse hasn't improved in 5 rounds.\n",
      "[20]\tvalidation_0-rmse:7.34480\tvalidation_1-rmse:11.04251\n",
      "Stopping. Best iteration:\n",
      "[33]\tvalidation_0-rmse:6.67810\tvalidation_1-rmse:10.65055\n",
      "\n",
      "[-0.2694795015106206, -0.2647591418764382, -0.5002238858436823, -0.7705056246599775, -0.2989572607634989, -0.19772516572306964, -0.1715918494787897, -14.703268514578852, 7.009315727338747, 0.20542691318721684]\n",
      "[0]\tvalidation_0-rmse:37.81028\tvalidation_1-rmse:34.43649\n",
      "Multiple eval metrics have been passed: 'validation_1-rmse' will be used for early stopping.\n",
      "\n",
      "Will train until validation_1-rmse hasn't improved in 5 rounds.\n",
      "[20]\tvalidation_0-rmse:8.15642\tvalidation_1-rmse:10.61483\n",
      "Stopping. Best iteration:\n",
      "[26]\tvalidation_0-rmse:7.68783\tvalidation_1-rmse:9.92028\n",
      "\n",
      "[-0.22000681058985877, -0.26588537278750785, -0.4904972748618135, -0.6961246806029224, -0.21201136791911115, -0.17934669342276358, -0.1601771123420084, -1.5858325920367975, 0.965406473646935, 0.20139288086952398]\n",
      "[0]\tvalidation_0-rmse:37.83766\tvalidation_1-rmse:23.61557\n",
      "Multiple eval metrics have been passed: 'validation_1-rmse' will be used for early stopping.\n",
      "\n",
      "Will train until validation_1-rmse hasn't improved in 5 rounds.\n",
      "[20]\tvalidation_0-rmse:8.06286\tvalidation_1-rmse:11.37015\n",
      "[40]\tvalidation_0-rmse:7.45456\tvalidation_1-rmse:10.22356\n",
      "Stopping. Best iteration:\n",
      "[47]\tvalidation_0-rmse:7.30862\tvalidation_1-rmse:10.03931\n",
      "\n",
      "[-0.26276596704399313, -0.274988074223828, -0.5426233094543771, -0.7988925264583018, -0.19402697436355762, -0.18469858881834586, -0.16427284611569876, -1.0068219606184472, 0.3394923443711611, 0.2178660934339898]\n",
      "[0]\tvalidation_0-rmse:35.28301\tvalidation_1-rmse:22.50045\n",
      "Multiple eval metrics have been passed: 'validation_1-rmse' will be used for early stopping.\n",
      "\n",
      "Will train until validation_1-rmse hasn't improved in 5 rounds.\n",
      "[20]\tvalidation_0-rmse:7.69392\tvalidation_1-rmse:5.14006\n",
      "[40]\tvalidation_0-rmse:6.66585\tvalidation_1-rmse:4.57073\n",
      "[60]\tvalidation_0-rmse:6.34415\tvalidation_1-rmse:4.40647\n",
      "Stopping. Best iteration:\n",
      "[65]\tvalidation_0-rmse:6.19833\tvalidation_1-rmse:4.29494\n",
      "\n",
      "[-0.27541311106466504, -0.31951584593078375, -0.7035241421787338, -0.8311405021040559, -0.17456160079614963, -0.1916130198234291, -0.18499565507841545, -3.554161336128834, 0.2866803434856887, 0.19452459899253394]\n",
      "[0]\tvalidation_0-rmse:31.14248\tvalidation_1-rmse:19.33064\n",
      "Multiple eval metrics have been passed: 'validation_1-rmse' will be used for early stopping.\n",
      "\n",
      "Will train until validation_1-rmse hasn't improved in 5 rounds.\n",
      "[20]\tvalidation_0-rmse:6.95700\tvalidation_1-rmse:3.65955\n",
      "[40]\tvalidation_0-rmse:6.10799\tvalidation_1-rmse:3.13449\n",
      "[60]\tvalidation_0-rmse:5.71571\tvalidation_1-rmse:2.90038\n",
      "[80]\tvalidation_0-rmse:5.33741\tvalidation_1-rmse:2.75642\n",
      "[100]\tvalidation_0-rmse:5.20225\tvalidation_1-rmse:2.71397\n",
      "[120]\tvalidation_0-rmse:5.03702\tvalidation_1-rmse:2.66757\n",
      "Stopping. Best iteration:\n",
      "[123]\tvalidation_0-rmse:5.02072\tvalidation_1-rmse:2.66451\n",
      "\n",
      "[-0.32367957334808434, -0.3857838736736766, -1.0654270607495806, -0.8171857647751051, -0.19008881498592564, -0.22194440319962003, -0.2342482800418958, 216.31058145029215, 0.41625623805669865, 0.23045768193738336]\n",
      "[0]\tvalidation_0-rmse:26.34570\tvalidation_1-rmse:18.52887\n",
      "Multiple eval metrics have been passed: 'validation_1-rmse' will be used for early stopping.\n",
      "\n",
      "Will train until validation_1-rmse hasn't improved in 5 rounds.\n",
      "[20]\tvalidation_0-rmse:5.88451\tvalidation_1-rmse:3.31570\n",
      "[40]\tvalidation_0-rmse:5.35179\tvalidation_1-rmse:3.06935\n",
      "Stopping. Best iteration:\n",
      "[43]\tvalidation_0-rmse:5.32757\tvalidation_1-rmse:3.00865\n",
      "\n",
      "[-0.36993426778036387, -0.3769264068135878, -1.120831300459557, -1.1979068423612163, -0.20819392697558936, -0.24308208056224972, -0.2574344933781403, 2.6272972307638343, 0.4720936771270871, 0.2181749103305771]\n"
     ]
    },
    {
     "name": "stdout",
     "output_type": "stream",
     "text": [
      "[0]\tvalidation_0-rmse:21.27541\tvalidation_1-rmse:16.74450\n",
      "Multiple eval metrics have been passed: 'validation_1-rmse' will be used for early stopping.\n",
      "\n",
      "Will train until validation_1-rmse hasn't improved in 5 rounds.\n",
      "[20]\tvalidation_0-rmse:5.25477\tvalidation_1-rmse:3.16604\n",
      "[40]\tvalidation_0-rmse:4.92966\tvalidation_1-rmse:2.83473\n",
      "[60]\tvalidation_0-rmse:4.78848\tvalidation_1-rmse:2.69182\n",
      "Stopping. Best iteration:\n",
      "[70]\tvalidation_0-rmse:4.74085\tvalidation_1-rmse:2.63920\n",
      "\n",
      "[-0.3218916092838354, -0.38325941153932924, -1.6646923856361033, -1.2190340669023614, -0.19734193934014843, -0.23756832851245427, -0.24879355143484277, 1.7719954807673317, 0.4488563447035366, 0.1879387215411543]\n",
      "[0]\tvalidation_0-rmse:18.84923\tvalidation_1-rmse:19.29800\n",
      "Multiple eval metrics have been passed: 'validation_1-rmse' will be used for early stopping.\n",
      "\n",
      "Will train until validation_1-rmse hasn't improved in 5 rounds.\n",
      "[20]\tvalidation_0-rmse:4.28852\tvalidation_1-rmse:5.85190\n",
      "[40]\tvalidation_0-rmse:3.83428\tvalidation_1-rmse:5.17756\n",
      "[60]\tvalidation_0-rmse:3.63160\tvalidation_1-rmse:4.91805\n",
      "[80]\tvalidation_0-rmse:3.49572\tvalidation_1-rmse:4.73215\n",
      "Stopping. Best iteration:\n",
      "[75]\tvalidation_0-rmse:3.54020\tvalidation_1-rmse:4.72484\n",
      "\n",
      "[-0.3633145747015562, -0.5271872332400013, -3.2750802630298526, -3.0229310612302775, -0.20302619738776403, -0.2601148118384964, -0.29604399823826355, 1.5915377612302901, 0.5029590471235712, 0.2349027402885342]\n",
      "[0]\tvalidation_0-rmse:17.90797\tvalidation_1-rmse:13.87629\n",
      "Multiple eval metrics have been passed: 'validation_1-rmse' will be used for early stopping.\n",
      "\n",
      "Will train until validation_1-rmse hasn't improved in 5 rounds.\n",
      "[20]\tvalidation_0-rmse:3.80723\tvalidation_1-rmse:4.11071\n",
      "[40]\tvalidation_0-rmse:3.31098\tvalidation_1-rmse:3.28388\n",
      "[60]\tvalidation_0-rmse:3.15936\tvalidation_1-rmse:3.17042\n",
      "Stopping. Best iteration:\n",
      "[65]\tvalidation_0-rmse:3.11741\tvalidation_1-rmse:3.10427\n",
      "\n"
     ]
    },
    {
     "ename": "KeyboardInterrupt",
     "evalue": "",
     "output_type": "error",
     "traceback": [
      "\u001b[1;31m---------------------------------------------------------------------------\u001b[0m",
      "\u001b[1;31mKeyboardInterrupt\u001b[0m                         Traceback (most recent call last)",
      "\u001b[1;32m<ipython-input-5-5564c0456113>\u001b[0m in \u001b[0;36m<module>\u001b[1;34m\u001b[0m\n\u001b[0;32m     31\u001b[0m     \u001b[1;31m# explain model predictions using SHAP\u001b[0m\u001b[1;33m\u001b[0m\u001b[1;33m\u001b[0m\u001b[1;33m\u001b[0m\u001b[0m\n\u001b[0;32m     32\u001b[0m     \u001b[0mexplainer\u001b[0m \u001b[1;33m=\u001b[0m \u001b[0mshap\u001b[0m\u001b[1;33m.\u001b[0m\u001b[0mTreeExplainer\u001b[0m\u001b[1;33m(\u001b[0m\u001b[0mmodel\u001b[0m\u001b[1;33m)\u001b[0m\u001b[1;33m\u001b[0m\u001b[1;33m\u001b[0m\u001b[0m\n\u001b[1;32m---> 33\u001b[1;33m     \u001b[0mshap_values\u001b[0m \u001b[1;33m=\u001b[0m \u001b[0mexplainer\u001b[0m\u001b[1;33m.\u001b[0m\u001b[0mshap_values\u001b[0m\u001b[1;33m(\u001b[0m\u001b[0mX_test\u001b[0m\u001b[1;33m)\u001b[0m\u001b[1;33m\u001b[0m\u001b[1;33m\u001b[0m\u001b[0m\n\u001b[0m\u001b[0;32m     34\u001b[0m \u001b[1;33m\u001b[0m\u001b[0m\n\u001b[0;32m     35\u001b[0m     \u001b[1;31m# for boolean features, only plot High (set Low to nan)\u001b[0m\u001b[1;33m\u001b[0m\u001b[1;33m\u001b[0m\u001b[1;33m\u001b[0m\u001b[0m\n",
      "\u001b[1;32m~\\Anaconda3\\lib\\site-packages\\shap\\explainers\\tree.py\u001b[0m in \u001b[0;36mshap_values\u001b[1;34m(self, X, y, tree_limit, approximate, check_additivity)\u001b[0m\n\u001b[0;32m    230\u001b[0m                     phi = self.model.original_model.predict(\n\u001b[0;32m    231\u001b[0m                         \u001b[0mX\u001b[0m\u001b[1;33m,\u001b[0m \u001b[0mntree_limit\u001b[0m\u001b[1;33m=\u001b[0m\u001b[0mtree_limit\u001b[0m\u001b[1;33m,\u001b[0m \u001b[0mpred_contribs\u001b[0m\u001b[1;33m=\u001b[0m\u001b[1;32mTrue\u001b[0m\u001b[1;33m,\u001b[0m\u001b[1;33m\u001b[0m\u001b[1;33m\u001b[0m\u001b[0m\n\u001b[1;32m--> 232\u001b[1;33m                         \u001b[0mapprox_contribs\u001b[0m\u001b[1;33m=\u001b[0m\u001b[0mapproximate\u001b[0m\u001b[1;33m,\u001b[0m \u001b[0mvalidate_features\u001b[0m\u001b[1;33m=\u001b[0m\u001b[1;32mFalse\u001b[0m\u001b[1;33m\u001b[0m\u001b[1;33m\u001b[0m\u001b[0m\n\u001b[0m\u001b[0;32m    233\u001b[0m                     )\n\u001b[0;32m    234\u001b[0m                 \u001b[1;32mexcept\u001b[0m \u001b[0mValueError\u001b[0m \u001b[1;32mas\u001b[0m \u001b[0me\u001b[0m\u001b[1;33m:\u001b[0m\u001b[1;33m\u001b[0m\u001b[1;33m\u001b[0m\u001b[0m\n",
      "\u001b[1;32mC:\\Program Files\\Python37\\lib\\site-packages\\xgboost\\core.py\u001b[0m in \u001b[0;36mpredict\u001b[1;34m(self, data, output_margin, ntree_limit, pred_leaf, pred_contribs, approx_contribs, pred_interactions, validate_features, training)\u001b[0m\n\u001b[0;32m   1450\u001b[0m                                           \u001b[0mctypes\u001b[0m\u001b[1;33m.\u001b[0m\u001b[0mc_int\u001b[0m\u001b[1;33m(\u001b[0m\u001b[0mtraining\u001b[0m\u001b[1;33m)\u001b[0m\u001b[1;33m,\u001b[0m\u001b[1;33m\u001b[0m\u001b[1;33m\u001b[0m\u001b[0m\n\u001b[0;32m   1451\u001b[0m                                           \u001b[0mctypes\u001b[0m\u001b[1;33m.\u001b[0m\u001b[0mbyref\u001b[0m\u001b[1;33m(\u001b[0m\u001b[0mlength\u001b[0m\u001b[1;33m)\u001b[0m\u001b[1;33m,\u001b[0m\u001b[1;33m\u001b[0m\u001b[1;33m\u001b[0m\u001b[0m\n\u001b[1;32m-> 1452\u001b[1;33m                                           ctypes.byref(preds)))\n\u001b[0m\u001b[0;32m   1453\u001b[0m         \u001b[0mpreds\u001b[0m \u001b[1;33m=\u001b[0m \u001b[0mctypes2numpy\u001b[0m\u001b[1;33m(\u001b[0m\u001b[0mpreds\u001b[0m\u001b[1;33m,\u001b[0m \u001b[0mlength\u001b[0m\u001b[1;33m.\u001b[0m\u001b[0mvalue\u001b[0m\u001b[1;33m,\u001b[0m \u001b[0mnp\u001b[0m\u001b[1;33m.\u001b[0m\u001b[0mfloat32\u001b[0m\u001b[1;33m)\u001b[0m\u001b[1;33m\u001b[0m\u001b[1;33m\u001b[0m\u001b[0m\n\u001b[0;32m   1454\u001b[0m         \u001b[1;32mif\u001b[0m \u001b[0mpred_leaf\u001b[0m\u001b[1;33m:\u001b[0m\u001b[1;33m\u001b[0m\u001b[1;33m\u001b[0m\u001b[0m\n",
      "\u001b[1;31mKeyboardInterrupt\u001b[0m: "
     ]
    }
   ],
   "source": [
    "weeks = range(45, 61)\n",
    "product_eans = sorted(dict(matrix['item'].value_counts()[:10])) # find item codes with the highest number of data points\n",
    "print(product_eans)\n",
    "columnNames = matrix.columns\n",
    "\n",
    "elasticities = []\n",
    "for weeknum in weeks:\n",
    "    X_train = matrix[(matrix.week <= weeknum-1)&(matrix.week >= weeknum-4)].drop(['volume'], axis=1)\n",
    "    Y_train = matrix[(matrix.week <= weeknum-1)&(matrix.week >= weeknum-4)]['volume']\n",
    "    X_test = matrix[matrix.week == weeknum].drop(['volume'], axis=1)\n",
    "    Y_test = matrix[matrix.week == weeknum]['volume']\n",
    "\n",
    "    model = XGBRegressor(\n",
    "        max_depth=10,\n",
    "        n_estimators=1000,\n",
    "        min_child_weight=300, \n",
    "        colsample_bytree=0.8, \n",
    "        subsample=0.8, \n",
    "        eta=0.3, \n",
    "        #tree_method='gpu_hist',\n",
    "        seed=42)\n",
    "\n",
    "    model.fit(\n",
    "        X_train, \n",
    "        Y_train, \n",
    "        eval_metric=\"rmse\", \n",
    "        eval_set=[(X_train, Y_train), (X_test, Y_test)], \n",
    "        verbose=20, \n",
    "        early_stopping_rounds = 5)\n",
    "    \n",
    "    # explain model predictions using SHAP\n",
    "    explainer = shap.TreeExplainer(model)\n",
    "    shap_values = explainer.shap_values(X_test)\n",
    "\n",
    "    # for boolean features, only plot High (set Low to nan)\n",
    "    high_mask = (X_test == 0)\n",
    "    masked_shap_values = np.copy(shap_values) # need a deep copy here apparently\n",
    "    masked_shap_values[high_mask] = np.nan\n",
    "    \n",
    "    # record elasticity values for a set of EANs\n",
    "    product_elasticities = []\n",
    "    for ean in product_eans:\n",
    "        # calculate SHAP values relating to the specific article\n",
    "        shap_product = masked_shap_values[matrix[matrix.week == weeknum]['item'] == ean]\n",
    "        # one definition of elasticity: inverse mean value of feature importance of Incasso (high importance indicates low elasticity)\n",
    "        elasticity = 1/np.nanmean(shap_product[:,columnNames.get_loc(\"income\")])\n",
    "        product_elasticities.append(elasticity)\n",
    "\n",
    "    elasticities.append(product_elasticities)\n",
    "    print(product_elasticities)\n",
    "    del model"
   ]
  },
  {
   "cell_type": "code",
   "execution_count": 12,
   "metadata": {},
   "outputs": [
    {
     "data": {
      "image/png": "[encoded data removed]",
      "text/plain": [
       "<Figure size 1008x360 with 2 Axes>"
      ]
     },
     "metadata": {
      "needs_background": "light"
     },
     "output_type": "display_data"
    }
   ],
   "source": [
    "# plot heatmap\n",
    "imscale = np.percentile(elasticities, 90)\n",
    "\n",
    "plt.figure(figsize=(14,5))\n",
    "heatmap = plt.imshow(np.column_stack(elasticities), cmap='RdYlGn', interpolation='nearest', \n",
    "                     extent=[-0.5, len(weeks)-0.5, -0.5, len(product_eans)-0.5], vmin=-imscale, vmax=imscale)\n",
    "plt.xticks(range(len(weeks)), weeks)\n",
    "plt.xlabel(\"week index\")\n",
    "plt.yticks(range(len(product_eans)), product_eans)\n",
    "plt.ylabel(\"item number\")\n",
    "\n",
    "from mpl_toolkits.axes_grid1 import make_axes_locatable\n",
    "divider = make_axes_locatable(plt.gca())\n",
    "cax = divider.append_axes('right', size='2%', pad=0.1)\n",
    "cb = plt.gcf().colorbar(heatmap, cax=cax, orientation='vertical')\n",
    "cb.ax.set_ylabel(\"inverse SHAP value for Incasso\")\n",
    "\n",
    "plt.show()"
   ]
  },
  {
   "cell_type": "markdown",
   "metadata": {},
   "source": [
    "Now run xgboost model on whole spring/summer season"
   ]
  },
  {
   "cell_type": "code",
   "execution_count": 6,
   "metadata": {},
   "outputs": [],
   "source": [
    "X_train = matrix[(matrix.week < 54)&(matrix.week > 3)].drop(['volume'], axis=1)\n",
    "Y_train = matrix[(matrix.week < 54)&(matrix.week > 3)]['volume']\n",
    "X_valid = matrix[(matrix.week < 61)&(matrix.week > 53)].drop(['volume'], axis=1)\n",
    "Y_valid = matrix[(matrix.week < 61)&(matrix.week > 53)]['volume']\n",
    "X_test = matrix[matrix.week > 60].drop(['volume'], axis=1)\n",
    "Y_test = matrix[matrix.week > 60]['volume']"
   ]
  },
  {
   "cell_type": "code",
   "execution_count": 5,
   "metadata": {},
   "outputs": [
    {
     "data": {
      "image/png": "[encoded data removed]",
      "text/plain": [
       "<Figure size 432x288 with 1 Axes>"
      ]
     },
     "metadata": {
      "needs_background": "light"
     },
     "output_type": "display_data"
    }
   ],
   "source": [
    "plt.hist(Y_valid, bins=200)\n",
    "plt.xlim(0, 120)\n",
    "plt.xlabel(\"volume sum\")\n",
    "plt.ylabel(\"frequency\")\n",
    "plt.show()"
   ]
  },
  {
   "cell_type": "code",
   "execution_count": 7,
   "metadata": {
    "scrolled": true
   },
   "outputs": [
    {
     "name": "stdout",
     "output_type": "stream",
     "text": [
      "[0]\tvalidation_0-rmse:33.33403\tvalidation_1-rmse:19.10328\n",
      "Multiple eval metrics have been passed: 'validation_1-rmse' will be used for early stopping.\n",
      "\n",
      "Will train until validation_1-rmse hasn't improved in 3 rounds.\n",
      "[1]\tvalidation_0-rmse:24.15221\tvalidation_1-rmse:13.72720\n",
      "[2]\tvalidation_0-rmse:17.96860\tvalidation_1-rmse:10.51024\n",
      "[3]\tvalidation_0-rmse:13.73489\tvalidation_1-rmse:8.30590\n",
      "[4]\tvalidation_0-rmse:10.68657\tvalidation_1-rmse:6.60740\n",
      "[5]\tvalidation_0-rmse:8.75770\tvalidation_1-rmse:5.62242\n",
      "[6]\tvalidation_0-rmse:7.54484\tvalidation_1-rmse:5.15745\n",
      "[7]\tvalidation_0-rmse:6.80748\tvalidation_1-rmse:4.90126\n",
      "[8]\tvalidation_0-rmse:6.32805\tvalidation_1-rmse:4.79698\n",
      "[9]\tvalidation_0-rmse:6.01784\tvalidation_1-rmse:4.69582\n",
      "[10]\tvalidation_0-rmse:5.59510\tvalidation_1-rmse:4.47417\n",
      "[11]\tvalidation_0-rmse:5.38740\tvalidation_1-rmse:4.43015\n",
      "[12]\tvalidation_0-rmse:5.26510\tvalidation_1-rmse:4.39292\n",
      "[13]\tvalidation_0-rmse:5.09888\tvalidation_1-rmse:4.17482\n",
      "[14]\tvalidation_0-rmse:4.99342\tvalidation_1-rmse:4.05359\n",
      "[15]\tvalidation_0-rmse:4.91275\tvalidation_1-rmse:3.95195\n",
      "[16]\tvalidation_0-rmse:4.89482\tvalidation_1-rmse:3.93870\n",
      "[17]\tvalidation_0-rmse:4.83223\tvalidation_1-rmse:3.94745\n",
      "[18]\tvalidation_0-rmse:4.77761\tvalidation_1-rmse:3.89167\n",
      "[19]\tvalidation_0-rmse:4.71945\tvalidation_1-rmse:3.86177\n",
      "[20]\tvalidation_0-rmse:4.69069\tvalidation_1-rmse:3.86468\n",
      "[21]\tvalidation_0-rmse:4.64672\tvalidation_1-rmse:3.83291\n",
      "[22]\tvalidation_0-rmse:4.56818\tvalidation_1-rmse:3.79693\n",
      "[23]\tvalidation_0-rmse:4.53519\tvalidation_1-rmse:3.77780\n",
      "[24]\tvalidation_0-rmse:4.50780\tvalidation_1-rmse:3.77162\n",
      "[25]\tvalidation_0-rmse:4.47789\tvalidation_1-rmse:3.73224\n",
      "[26]\tvalidation_0-rmse:4.44578\tvalidation_1-rmse:3.68283\n",
      "[27]\tvalidation_0-rmse:4.41585\tvalidation_1-rmse:3.65260\n",
      "[28]\tvalidation_0-rmse:4.39447\tvalidation_1-rmse:3.64552\n",
      "[29]\tvalidation_0-rmse:4.37607\tvalidation_1-rmse:3.64458\n",
      "[30]\tvalidation_0-rmse:4.32251\tvalidation_1-rmse:3.62798\n",
      "[31]\tvalidation_0-rmse:4.30064\tvalidation_1-rmse:3.58909\n",
      "[32]\tvalidation_0-rmse:4.25060\tvalidation_1-rmse:3.60312\n",
      "[33]\tvalidation_0-rmse:4.22791\tvalidation_1-rmse:3.54480\n",
      "[34]\tvalidation_0-rmse:4.18851\tvalidation_1-rmse:3.55772\n",
      "[35]\tvalidation_0-rmse:4.15881\tvalidation_1-rmse:3.48710\n",
      "[36]\tvalidation_0-rmse:4.14632\tvalidation_1-rmse:3.47615\n",
      "[37]\tvalidation_0-rmse:4.11965\tvalidation_1-rmse:3.47364\n",
      "[38]\tvalidation_0-rmse:4.10679\tvalidation_1-rmse:3.47778\n",
      "[39]\tvalidation_0-rmse:4.09898\tvalidation_1-rmse:3.46550\n",
      "[40]\tvalidation_0-rmse:4.07679\tvalidation_1-rmse:3.44604\n",
      "[41]\tvalidation_0-rmse:4.05371\tvalidation_1-rmse:3.43513\n",
      "[42]\tvalidation_0-rmse:4.04133\tvalidation_1-rmse:3.43538\n",
      "[43]\tvalidation_0-rmse:4.03249\tvalidation_1-rmse:3.41952\n",
      "[44]\tvalidation_0-rmse:4.02607\tvalidation_1-rmse:3.41857\n",
      "[45]\tvalidation_0-rmse:4.02015\tvalidation_1-rmse:3.41149\n",
      "[46]\tvalidation_0-rmse:4.00949\tvalidation_1-rmse:3.38375\n",
      "[47]\tvalidation_0-rmse:4.00233\tvalidation_1-rmse:3.36943\n",
      "[48]\tvalidation_0-rmse:3.99012\tvalidation_1-rmse:3.37255\n",
      "[49]\tvalidation_0-rmse:3.97176\tvalidation_1-rmse:3.35628\n",
      "[50]\tvalidation_0-rmse:3.95766\tvalidation_1-rmse:3.35548\n",
      "[51]\tvalidation_0-rmse:3.95252\tvalidation_1-rmse:3.36752\n",
      "[52]\tvalidation_0-rmse:3.94501\tvalidation_1-rmse:3.34324\n",
      "[53]\tvalidation_0-rmse:3.94059\tvalidation_1-rmse:3.34310\n",
      "[54]\tvalidation_0-rmse:3.93049\tvalidation_1-rmse:3.34685\n",
      "[55]\tvalidation_0-rmse:3.92470\tvalidation_1-rmse:3.35335\n",
      "[56]\tvalidation_0-rmse:3.91733\tvalidation_1-rmse:3.34713\n",
      "Stopping. Best iteration:\n",
      "[53]\tvalidation_0-rmse:3.94059\tvalidation_1-rmse:3.34310\n",
      "\n"
     ]
    },
    {
     "data": {
      "text/plain": [
       "XGBRegressor(base_score=0.5, booster=None, colsample_bylevel=1,\n",
       "             colsample_bynode=1, colsample_bytree=0.8, eta=0.3, gamma=0,\n",
       "             gpu_id=-1, importance_type='gain', interaction_constraints=None,\n",
       "             learning_rate=0.300000012, max_delta_step=0, max_depth=10,\n",
       "             min_child_weight=300, missing=nan, monotone_constraints=None,\n",
       "             n_estimators=1000, n_jobs=0, num_parallel_tree=1,\n",
       "             objective='reg:squarederror', random_state=42, reg_alpha=0,\n",
       "             reg_lambda=1, scale_pos_weight=1, seed=42, subsample=0.8,\n",
       "             tree_method=None, validate_parameters=False, verbosity=None)"
      ]
     },
     "execution_count": 7,
     "metadata": {},
     "output_type": "execute_result"
    }
   ],
   "source": [
    "model = XGBRegressor(\n",
    "    max_depth=10,\n",
    "    n_estimators=1000,\n",
    "    min_child_weight=300, \n",
    "    colsample_bytree=0.8, \n",
    "    subsample=0.8, \n",
    "    eta=0.3,    \n",
    "    seed=42)\n",
    "\n",
    "model.fit(\n",
    "    X_train, \n",
    "    Y_train, \n",
    "    eval_metric=\"rmse\", \n",
    "    eval_set=[(X_train, Y_train), (X_valid, Y_valid)], \n",
    "    verbose=True, \n",
    "    early_stopping_rounds = 3)"
   ]
  },
  {
   "cell_type": "code",
   "execution_count": 8,
   "metadata": {},
   "outputs": [
    {
     "name": "stdout",
     "output_type": "stream",
     "text": [
      "prediction interval: +- 0 , sales prediction accuracy:  0.7448806197978168\n",
      "prediction interval: +- 1 , sales prediction accuracy:  0.9092192045159989\n",
      "prediction interval: +- 2 , sales prediction accuracy:  0.9501526453731172\n",
      "prediction interval: +- 3 , sales prediction accuracy:  0.9678364678436681\n",
      "prediction interval: +- 4 , sales prediction accuracy:  0.9779672244463005\n"
     ]
    }
   ],
   "source": [
    "Y_pred = model.predict(X_test)\n",
    "a = pd.DataFrame(np.array([list(Y_pred),list(Y_test)]).transpose(),columns=['volume sum','volume sum_pred'])\n",
    "a['volume sum'] = a['volume sum'].round()\n",
    "a['volume sum'] = a['volume sum'].astype('int16')\n",
    "a['volume sum_pred'] = a['volume sum_pred'].astype('int16')\n",
    "for i in range(0,5):\n",
    "    a['success'] = (a['volume sum']- a['volume sum_pred']<=i)&(a['volume sum']- a['volume sum_pred']>=-i)\n",
    "    c = a['success'].mean()\n",
    "    print('prediction interval: +-',i,', sales prediction accuracy: ',c)"
   ]
  },
  {
   "cell_type": "code",
   "execution_count": 9,
   "metadata": {},
   "outputs": [
    {
     "data": {
      "text/html": [
       "<div>\n",
       "<style scoped>\n",
       "    .dataframe tbody tr th:only-of-type {\n",
       "        vertical-align: middle;\n",
       "    }\n",
       "\n",
       "    .dataframe tbody tr th {\n",
       "        vertical-align: top;\n",
       "    }\n",
       "\n",
       "    .dataframe thead th {\n",
       "        text-align: right;\n",
       "    }\n",
       "</style>\n",
       "<table border=\"1\" class=\"dataframe\">\n",
       "  <thead>\n",
       "    <tr style=\"text-align: right;\">\n",
       "      <th></th>\n",
       "      <th>volume sum</th>\n",
       "      <th>volume sum_pred</th>\n",
       "      <th>success</th>\n",
       "    </tr>\n",
       "  </thead>\n",
       "  <tbody>\n",
       "    <tr>\n",
       "      <th>0</th>\n",
       "      <td>3</td>\n",
       "      <td>3</td>\n",
       "      <td>True</td>\n",
       "    </tr>\n",
       "    <tr>\n",
       "      <th>1</th>\n",
       "      <td>7</td>\n",
       "      <td>6</td>\n",
       "      <td>True</td>\n",
       "    </tr>\n",
       "    <tr>\n",
       "      <th>2</th>\n",
       "      <td>3</td>\n",
       "      <td>3</td>\n",
       "      <td>True</td>\n",
       "    </tr>\n",
       "    <tr>\n",
       "      <th>3</th>\n",
       "      <td>1</td>\n",
       "      <td>1</td>\n",
       "      <td>True</td>\n",
       "    </tr>\n",
       "    <tr>\n",
       "      <th>4</th>\n",
       "      <td>8</td>\n",
       "      <td>8</td>\n",
       "      <td>True</td>\n",
       "    </tr>\n",
       "    <tr>\n",
       "      <th>...</th>\n",
       "      <td>...</td>\n",
       "      <td>...</td>\n",
       "      <td>...</td>\n",
       "    </tr>\n",
       "    <tr>\n",
       "      <th>138879</th>\n",
       "      <td>2</td>\n",
       "      <td>2</td>\n",
       "      <td>True</td>\n",
       "    </tr>\n",
       "    <tr>\n",
       "      <th>138880</th>\n",
       "      <td>1</td>\n",
       "      <td>1</td>\n",
       "      <td>True</td>\n",
       "    </tr>\n",
       "    <tr>\n",
       "      <th>138881</th>\n",
       "      <td>1</td>\n",
       "      <td>1</td>\n",
       "      <td>True</td>\n",
       "    </tr>\n",
       "    <tr>\n",
       "      <th>138882</th>\n",
       "      <td>1</td>\n",
       "      <td>1</td>\n",
       "      <td>True</td>\n",
       "    </tr>\n",
       "    <tr>\n",
       "      <th>138883</th>\n",
       "      <td>4</td>\n",
       "      <td>4</td>\n",
       "      <td>True</td>\n",
       "    </tr>\n",
       "  </tbody>\n",
       "</table>\n",
       "<p>138884 rows × 3 columns</p>\n",
       "</div>"
      ],
      "text/plain": [
       "        volume sum  volume sum_pred  success\n",
       "0                3                3     True\n",
       "1                7                6     True\n",
       "2                3                3     True\n",
       "3                1                1     True\n",
       "4                8                8     True\n",
       "...            ...              ...      ...\n",
       "138879           2                2     True\n",
       "138880           1                1     True\n",
       "138881           1                1     True\n",
       "138882           1                1     True\n",
       "138883           4                4     True\n",
       "\n",
       "[138884 rows x 3 columns]"
      ]
     },
     "execution_count": 9,
     "metadata": {},
     "output_type": "execute_result"
    }
   ],
   "source": [
    "a"
   ]
  },
  {
   "cell_type": "code",
   "execution_count": 14,
   "metadata": {},
   "outputs": [
    {
     "data": {
      "image/png": "[encoded data removed]",
      "text/plain": [
       "<Figure size 576x684 with 2 Axes>"
      ]
     },
     "metadata": {
      "needs_background": "light"
     },
     "output_type": "display_data"
    },
    {
     "data": {
      "image/png": "[encoded data removed]",
      "text/plain": [
       "<Figure size 1440x360 with 1 Axes>"
      ]
     },
     "metadata": {
      "needs_background": "light"
     },
     "output_type": "display_data"
    }
   ],
   "source": [
    "# visualise SHAP value averages across points in barplot\n",
    "columnNames = matrix.columns\n",
    "explainer = shap.TreeExplainer(model)\n",
    "shap_values = explainer.shap_values(X_test)\n",
    "\n",
    "shap.summary_plot(shap_values, X_test, feature_names=[\"\"]*len(X_test)) # anonymise data\n",
    "\n",
    "global_shap_values = np.nanmean(shap_values, axis=0) # average SHAP values across points\n",
    "\n",
    "xvals = range(global_shap_values.shape[0])\n",
    "plt.figure(figsize=(20,5))\n",
    "plt.bar(xvals, global_shap_values)\n",
    "#plt.xticks(xvals, columnNames, rotation='vertical')\n",
    "plt.xlabel(\"feature\")\n",
    "plt.ylabel(\"global SHAP value\")\n",
    "plt.show()\n",
    "plt.close()"
   ]
  },
  {
   "cell_type": "code",
   "execution_count": 18,
   "metadata": {},
   "outputs": [
    {
     "data": {
      "text/plain": [
       "<matplotlib.axes._subplots.AxesSubplot at 0x1b257d98988>"
      ]
     },
     "execution_count": 18,
     "metadata": {},
     "output_type": "execute_result"
    },
    {
     "data": {
      "image/png": "[encoded data removed]",
      "text/plain": [
       "<Figure size 720x1008 with 1 Axes>"
      ]
     },
     "metadata": {
      "needs_background": "light"
     },
     "output_type": "display_data"
    }
   ],
   "source": [
    "from xgboost import plot_importance\n",
    "\n",
    "def plot_features(booster, figsize):    \n",
    "    fig, ax = plt.subplots(1,1,figsize=figsize)\n",
    "    plt.axis('off') # anonymise data\n",
    "    return plot_importance(booster=booster, ax=ax)\n",
    "\n",
    "plot_features(model, (10,14))"
   ]
  },
  {
   "cell_type": "markdown",
   "metadata": {},
   "source": [
    "# Lightgbm"
   ]
  },
  {
   "cell_type": "code",
   "execution_count": 4,
   "metadata": {},
   "outputs": [
    {
     "name": "stdout",
     "output_type": "stream",
     "text": [
      "[1]\tvalid_0's l2: 509.386\n",
      "Training until validation scores don't improve for 10 rounds\n",
      "[2]\tvalid_0's l2: 424.929\n",
      "[3]\tvalid_0's l2: 356.752\n",
      "[4]\tvalid_0's l2: 301.242\n",
      "[5]\tvalid_0's l2: 258.634\n",
      "[6]\tvalid_0's l2: 224.276\n",
      "[7]\tvalid_0's l2: 194.657\n",
      "[8]\tvalid_0's l2: 171.285\n",
      "[9]\tvalid_0's l2: 151.825\n",
      "[10]\tvalid_0's l2: 137.566\n",
      "[11]\tvalid_0's l2: 125.217\n",
      "[12]\tvalid_0's l2: 114.269\n",
      "[13]\tvalid_0's l2: 104.472\n",
      "[14]\tvalid_0's l2: 95.4811\n",
      "[15]\tvalid_0's l2: 86.6446\n",
      "[16]\tvalid_0's l2: 81.9073\n",
      "[17]\tvalid_0's l2: 74.912\n",
      "[18]\tvalid_0's l2: 70.4644\n",
      "[19]\tvalid_0's l2: 67.106\n",
      "[20]\tvalid_0's l2: 62.7421\n",
      "[21]\tvalid_0's l2: 59.5477\n",
      "[22]\tvalid_0's l2: 57.9918\n",
      "[23]\tvalid_0's l2: 55.4183\n",
      "[24]\tvalid_0's l2: 53.2151\n",
      "[25]\tvalid_0's l2: 53.585\n",
      "[26]\tvalid_0's l2: 51.3836\n",
      "[27]\tvalid_0's l2: 49.8104\n",
      "[28]\tvalid_0's l2: 48.7361\n",
      "[29]\tvalid_0's l2: 47.2511\n",
      "[30]\tvalid_0's l2: 46.4139\n",
      "[31]\tvalid_0's l2: 45.6547\n",
      "[32]\tvalid_0's l2: 45.3804\n",
      "[33]\tvalid_0's l2: 44.1716\n",
      "[34]\tvalid_0's l2: 44.223\n",
      "[35]\tvalid_0's l2: 43.7657\n",
      "[36]\tvalid_0's l2: 43.4077\n",
      "[37]\tvalid_0's l2: 43.1158\n",
      "[38]\tvalid_0's l2: 43.1755\n",
      "[39]\tvalid_0's l2: 43.1059\n",
      "[40]\tvalid_0's l2: 42.4574\n",
      "[41]\tvalid_0's l2: 41.5513\n",
      "[42]\tvalid_0's l2: 40.835\n",
      "[43]\tvalid_0's l2: 40.6053\n",
      "[44]\tvalid_0's l2: 39.7252\n",
      "[45]\tvalid_0's l2: 39.1786\n",
      "[46]\tvalid_0's l2: 38.6213\n",
      "[47]\tvalid_0's l2: 38.2457\n",
      "[48]\tvalid_0's l2: 37.7712\n",
      "[49]\tvalid_0's l2: 37.5228\n",
      "[50]\tvalid_0's l2: 37.0291\n",
      "[51]\tvalid_0's l2: 36.3006\n",
      "[52]\tvalid_0's l2: 36.1019\n",
      "[53]\tvalid_0's l2: 35.7455\n",
      "[54]\tvalid_0's l2: 34.9908\n",
      "[55]\tvalid_0's l2: 34.498\n",
      "[56]\tvalid_0's l2: 34.1027\n",
      "[57]\tvalid_0's l2: 33.9005\n",
      "[58]\tvalid_0's l2: 33.5859\n",
      "[59]\tvalid_0's l2: 33.2629\n",
      "[60]\tvalid_0's l2: 32.8234\n",
      "[61]\tvalid_0's l2: 32.3596\n",
      "[62]\tvalid_0's l2: 31.9562\n",
      "[63]\tvalid_0's l2: 31.5152\n",
      "[64]\tvalid_0's l2: 31.3189\n",
      "[65]\tvalid_0's l2: 31.0368\n",
      "[66]\tvalid_0's l2: 30.6269\n",
      "[67]\tvalid_0's l2: 30.1835\n",
      "[68]\tvalid_0's l2: 30.0689\n",
      "[69]\tvalid_0's l2: 30.0634\n",
      "[70]\tvalid_0's l2: 30.0828\n",
      "[71]\tvalid_0's l2: 29.9065\n",
      "[72]\tvalid_0's l2: 29.6412\n",
      "[73]\tvalid_0's l2: 29.4879\n",
      "[74]\tvalid_0's l2: 29.2767\n",
      "[75]\tvalid_0's l2: 29.0495\n",
      "[76]\tvalid_0's l2: 28.7583\n",
      "[77]\tvalid_0's l2: 28.3899\n",
      "[78]\tvalid_0's l2: 28.0724\n",
      "[79]\tvalid_0's l2: 27.8429\n",
      "[80]\tvalid_0's l2: 27.4152\n",
      "[81]\tvalid_0's l2: 27.3684\n",
      "[82]\tvalid_0's l2: 27.1793\n",
      "[83]\tvalid_0's l2: 27.268\n",
      "[84]\tvalid_0's l2: 27.1823\n",
      "[85]\tvalid_0's l2: 27.1282\n",
      "[86]\tvalid_0's l2: 26.9299\n",
      "[87]\tvalid_0's l2: 26.8766\n",
      "[88]\tvalid_0's l2: 26.989\n",
      "[89]\tvalid_0's l2: 27.1957\n",
      "[90]\tvalid_0's l2: 27.0578\n",
      "[91]\tvalid_0's l2: 26.8978\n",
      "[92]\tvalid_0's l2: 26.7274\n",
      "[93]\tvalid_0's l2: 26.643\n",
      "[94]\tvalid_0's l2: 26.3893\n",
      "[95]\tvalid_0's l2: 26.4628\n",
      "[96]\tvalid_0's l2: 26.3088\n",
      "[97]\tvalid_0's l2: 26.0728\n",
      "[98]\tvalid_0's l2: 26.1104\n",
      "[99]\tvalid_0's l2: 25.8958\n",
      "[100]\tvalid_0's l2: 25.8389\n",
      "[101]\tvalid_0's l2: 25.7897\n",
      "[102]\tvalid_0's l2: 25.7214\n",
      "[103]\tvalid_0's l2: 25.708\n",
      "[104]\tvalid_0's l2: 25.6116\n",
      "[105]\tvalid_0's l2: 25.3281\n",
      "[106]\tvalid_0's l2: 25.056\n",
      "[107]\tvalid_0's l2: 25.1592\n",
      "[108]\tvalid_0's l2: 25.0388\n",
      "[109]\tvalid_0's l2: 25.0432\n",
      "[110]\tvalid_0's l2: 24.8306\n",
      "[111]\tvalid_0's l2: 24.8298\n",
      "[112]\tvalid_0's l2: 24.6999\n",
      "[113]\tvalid_0's l2: 24.5885\n",
      "[114]\tvalid_0's l2: 24.4901\n",
      "[115]\tvalid_0's l2: 24.3767\n",
      "[116]\tvalid_0's l2: 24.2882\n",
      "[117]\tvalid_0's l2: 24.0951\n",
      "[118]\tvalid_0's l2: 24.0751\n",
      "[119]\tvalid_0's l2: 23.9179\n",
      "[120]\tvalid_0's l2: 23.5411\n",
      "[121]\tvalid_0's l2: 23.4662\n",
      "[122]\tvalid_0's l2: 23.3917\n",
      "[123]\tvalid_0's l2: 23.2739\n",
      "[124]\tvalid_0's l2: 23.2167\n",
      "[125]\tvalid_0's l2: 23.1753\n",
      "[126]\tvalid_0's l2: 23.1872\n",
      "[127]\tvalid_0's l2: 23.1701\n",
      "[128]\tvalid_0's l2: 22.9722\n",
      "[129]\tvalid_0's l2: 22.8825\n",
      "[130]\tvalid_0's l2: 22.7211\n",
      "[131]\tvalid_0's l2: 22.6336\n",
      "[132]\tvalid_0's l2: 22.5089\n",
      "[133]\tvalid_0's l2: 22.5074\n",
      "[134]\tvalid_0's l2: 22.3355\n",
      "[135]\tvalid_0's l2: 22.3463\n",
      "[136]\tvalid_0's l2: 22.361\n",
      "[137]\tvalid_0's l2: 22.3052\n",
      "[138]\tvalid_0's l2: 22.2475\n",
      "[139]\tvalid_0's l2: 22.2224\n",
      "[140]\tvalid_0's l2: 22.123\n",
      "[141]\tvalid_0's l2: 22.2661\n",
      "[142]\tvalid_0's l2: 22.2381\n",
      "[143]\tvalid_0's l2: 22.2055\n",
      "[144]\tvalid_0's l2: 22.2005\n",
      "[145]\tvalid_0's l2: 22.2909\n",
      "[146]\tvalid_0's l2: 22.3832\n",
      "[147]\tvalid_0's l2: 22.3867\n",
      "[148]\tvalid_0's l2: 22.5266\n",
      "[149]\tvalid_0's l2: 22.4375\n",
      "[150]\tvalid_0's l2: 22.3824\n",
      "Early stopping, best iteration is:\n",
      "[140]\tvalid_0's l2: 22.123\n"
     ]
    }
   ],
   "source": [
    "import lightgbm as lgb\n",
    "params = {\n",
    "        'task' : 'train',\n",
    "        'boosting_type' : 'gbdt',\n",
    "        'objective' : 'regression',\n",
    "        'metric' : {'l2'},\n",
    "        'num_leaves' : 31,\n",
    "        'learning_rate' : 0.1,\n",
    "        'feature_fraction' : 0.9,\n",
    "        'bagging_fraction' : 0.8,\n",
    "        'bagging_freq': 5,\n",
    "        'verbose' : 0\n",
    "}\n",
    "lgb_train = lgb.Dataset(X_train, Y_train)\n",
    "lgb_valid = lgb.Dataset(X_valid, Y_valid, reference=lgb_train)\n",
    "\n",
    "gbm = lgb.train(params,\n",
    "            lgb_train,\n",
    "            num_boost_round=500,\n",
    "            valid_sets=lgb_valid,\n",
    "            early_stopping_rounds=10)"
   ]
  },
  {
   "cell_type": "code",
   "execution_count": 6,
   "metadata": {},
   "outputs": [
    {
     "name": "stdout",
     "output_type": "stream",
     "text": [
      "prediction interval: +- 0 , sales prediction accuracy:  0.5199807033207569\n",
      "prediction interval: +- 1 , sales prediction accuracy:  0.8639944126033237\n",
      "prediction interval: +- 2 , sales prediction accuracy:  0.9407851156360704\n",
      "prediction interval: +- 3 , sales prediction accuracy:  0.9680740762074825\n",
      "prediction interval: +- 4 , sales prediction accuracy:  0.980213703522364\n"
     ]
    }
   ],
   "source": [
    "Y_pred = gbm.predict(X_test)\n",
    "a = pd.DataFrame(np.array([list(Y_pred),list(Y_test)]).transpose(),columns=['volume sum','volume sum_pred'])\n",
    "a['volume sum'] = a['volume sum'].round()\n",
    "a['volume sum'] = a['volume sum'].astype('int16')\n",
    "a['volume sum_pred'] = a['volume sum_pred'].astype('int16')\n",
    "for i in range(0,5):\n",
    "    a['success'] = (a['volume sum']- a['volume sum_pred']<=i)&(a['volume sum']- a['volume sum_pred']>=-i)\n",
    "    c = a['success'].mean()\n",
    "    print('prediction interval: +-',i,', sales prediction accuracy: ',c)"
   ]
  },
  {
   "cell_type": "code",
   "execution_count": 10,
   "metadata": {},
   "outputs": [
    {
     "data": {
      "text/html": [
       "<div>\n",
       "<style scoped>\n",
       "    .dataframe tbody tr th:only-of-type {\n",
       "        vertical-align: middle;\n",
       "    }\n",
       "\n",
       "    .dataframe tbody tr th {\n",
       "        vertical-align: top;\n",
       "    }\n",
       "\n",
       "    .dataframe thead th {\n",
       "        text-align: right;\n",
       "    }\n",
       "</style>\n",
       "<table border=\"1\" class=\"dataframe\">\n",
       "  <thead>\n",
       "    <tr style=\"text-align: right;\">\n",
       "      <th></th>\n",
       "      <th>volume sum</th>\n",
       "      <th>volume sum_pred</th>\n",
       "      <th>success</th>\n",
       "    </tr>\n",
       "  </thead>\n",
       "  <tbody>\n",
       "    <tr>\n",
       "      <td>0</td>\n",
       "      <td>2</td>\n",
       "      <td>3</td>\n",
       "      <td>True</td>\n",
       "    </tr>\n",
       "    <tr>\n",
       "      <td>1</td>\n",
       "      <td>6</td>\n",
       "      <td>6</td>\n",
       "      <td>True</td>\n",
       "    </tr>\n",
       "    <tr>\n",
       "      <td>2</td>\n",
       "      <td>4</td>\n",
       "      <td>3</td>\n",
       "      <td>True</td>\n",
       "    </tr>\n",
       "    <tr>\n",
       "      <td>3</td>\n",
       "      <td>1</td>\n",
       "      <td>1</td>\n",
       "      <td>True</td>\n",
       "    </tr>\n",
       "    <tr>\n",
       "      <td>4</td>\n",
       "      <td>8</td>\n",
       "      <td>8</td>\n",
       "      <td>True</td>\n",
       "    </tr>\n",
       "    <tr>\n",
       "      <td>5</td>\n",
       "      <td>2</td>\n",
       "      <td>2</td>\n",
       "      <td>True</td>\n",
       "    </tr>\n",
       "    <tr>\n",
       "      <td>6</td>\n",
       "      <td>18</td>\n",
       "      <td>17</td>\n",
       "      <td>True</td>\n",
       "    </tr>\n",
       "    <tr>\n",
       "      <td>7</td>\n",
       "      <td>4</td>\n",
       "      <td>3</td>\n",
       "      <td>True</td>\n",
       "    </tr>\n",
       "    <tr>\n",
       "      <td>8</td>\n",
       "      <td>2</td>\n",
       "      <td>1</td>\n",
       "      <td>True</td>\n",
       "    </tr>\n",
       "    <tr>\n",
       "      <td>9</td>\n",
       "      <td>4</td>\n",
       "      <td>4</td>\n",
       "      <td>True</td>\n",
       "    </tr>\n",
       "  </tbody>\n",
       "</table>\n",
       "</div>"
      ],
      "text/plain": [
       "   volume sum  volume sum_pred  success\n",
       "0           2                3     True\n",
       "1           6                6     True\n",
       "2           4                3     True\n",
       "3           1                1     True\n",
       "4           8                8     True\n",
       "5           2                2     True\n",
       "6          18               17     True\n",
       "7           4                3     True\n",
       "8           2                1     True\n",
       "9           4                4     True"
      ]
     },
     "execution_count": 10,
     "metadata": {},
     "output_type": "execute_result"
    }
   ],
   "source": [
    "a.head(10)"
   ]
  }
 ],
 "metadata": {
  "kernelspec": {
   "display_name": "Python 3",
   "language": "python",
   "name": "python3"
  },
  "language_info": {
   "codemirror_mode": {
    "name": "ipython",
    "version": 3
   },
   "file_extension": ".py",
   "mimetype": "text/x-python",
   "name": "python",
   "nbconvert_exporter": "python",
   "pygments_lexer": "ipython3",
   "version": "3.7.4"
  }
 },
 "nbformat": 4,
 "nbformat_minor": 2
}
